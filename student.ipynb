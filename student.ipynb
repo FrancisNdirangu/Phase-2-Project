{
 "cells": [
  {
   "cell_type": "markdown",
   "id": "dea4ec97",
   "metadata": {},
   "source": [
    "# MOVIE DATA ANALYSIS"
   ]
  },
  {
   "cell_type": "markdown",
   "id": "bba36d96",
   "metadata": {},
   "source": [
    "## Overview and Business Understanding "
   ]
  },
  {
   "cell_type": "markdown",
   "id": "5d91af25",
   "metadata": {},
   "source": [
    "our company now sees all the big companies creating original video content and they want to get in on the fun. They have decided to create a new movie studio, but they don’t know anything about creating movies. You are charged with exploring what types of films are currently doing the best at the box office. You must then translate those findings into actionable insights that the head of your company's new movie studio can use to help decide what type of films to create."
   ]
  },
  {
   "cell_type": "code",
   "execution_count": null,
   "id": "6333f223",
   "metadata": {},
   "outputs": [],
   "source": []
  }
 ],
 "metadata": {
  "language_info": {
   "name": "python"
  }
 },
 "nbformat": 4,
 "nbformat_minor": 5
}
