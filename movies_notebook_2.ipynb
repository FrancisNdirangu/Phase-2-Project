{
 "cells": [
  {
   "cell_type": "code",
   "execution_count": 46,
   "id": "c1040288",
   "metadata": {},
   "outputs": [],
   "source": [
    "import pandas as pd\n",
    "import numpy as np\n",
    "import sqlite3\n",
    "import seaborn as sns\n",
    "import matplotlib.pyplot as plt\n",
    "%matplotlib inline\n",
    "\n",
    "from scipy import stats\n",
    "from statsmodels.stats.weightstats import ttest_ind"
   ]
  },
  {
   "cell_type": "code",
   "execution_count": 47,
   "id": "3d2120c1",
   "metadata": {},
   "outputs": [
    {
     "data": {
      "text/plain": [
       "[('movie_basics',),\n",
       " ('directors',),\n",
       " ('known_for',),\n",
       " ('movie_akas',),\n",
       " ('movie_ratings',),\n",
       " ('persons',),\n",
       " ('principals',),\n",
       " ('writers',)]"
      ]
     },
     "execution_count": 47,
     "metadata": {},
     "output_type": "execute_result"
    }
   ],
   "source": [
    "con = sqlite3.connect(r'zippedData\\im.db\\im.db')\n",
    "\n",
    "cur = con.cursor()\n",
    "\n",
    "cur.execute(\"SELECT name from sqlite_master\").fetchall()"
   ]
  },
  {
   "cell_type": "code",
   "execution_count": 48,
   "id": "924de87e",
   "metadata": {},
   "outputs": [
    {
     "data": {
      "text/html": [
       "<div>\n",
       "<style scoped>\n",
       "    .dataframe tbody tr th:only-of-type {\n",
       "        vertical-align: middle;\n",
       "    }\n",
       "\n",
       "    .dataframe tbody tr th {\n",
       "        vertical-align: top;\n",
       "    }\n",
       "\n",
       "    .dataframe thead th {\n",
       "        text-align: right;\n",
       "    }\n",
       "</style>\n",
       "<table border=\"1\" class=\"dataframe\">\n",
       "  <thead>\n",
       "    <tr style=\"text-align: right;\">\n",
       "      <th></th>\n",
       "      <th>movie_id</th>\n",
       "      <th>ordering</th>\n",
       "      <th>person_id</th>\n",
       "      <th>category</th>\n",
       "      <th>job</th>\n",
       "      <th>characters</th>\n",
       "      <th>ordering</th>\n",
       "      <th>title</th>\n",
       "      <th>region</th>\n",
       "      <th>language</th>\n",
       "      <th>...</th>\n",
       "      <th>original_title</th>\n",
       "      <th>start_year</th>\n",
       "      <th>runtime_minutes</th>\n",
       "      <th>genres</th>\n",
       "      <th>averagerating</th>\n",
       "      <th>numvotes</th>\n",
       "      <th>primary_name</th>\n",
       "      <th>birth_year</th>\n",
       "      <th>death_year</th>\n",
       "      <th>primary_profession</th>\n",
       "    </tr>\n",
       "  </thead>\n",
       "  <tbody>\n",
       "    <tr>\n",
       "      <th>0</th>\n",
       "      <td>tt0323808</td>\n",
       "      <td>10</td>\n",
       "      <td>nm0059247</td>\n",
       "      <td>editor</td>\n",
       "      <td>None</td>\n",
       "      <td>None</td>\n",
       "      <td>1</td>\n",
       "      <td>May Day</td>\n",
       "      <td>GB</td>\n",
       "      <td>None</td>\n",
       "      <td>...</td>\n",
       "      <td>The Wicker Tree</td>\n",
       "      <td>2011</td>\n",
       "      <td>96.0</td>\n",
       "      <td>Drama,Horror</td>\n",
       "      <td>3.9</td>\n",
       "      <td>2328</td>\n",
       "      <td>Sean Barton</td>\n",
       "      <td>1944.0</td>\n",
       "      <td>NaN</td>\n",
       "      <td>editor,editorial_department,assistant_director</td>\n",
       "    </tr>\n",
       "    <tr>\n",
       "      <th>1</th>\n",
       "      <td>tt0323808</td>\n",
       "      <td>10</td>\n",
       "      <td>nm0059247</td>\n",
       "      <td>editor</td>\n",
       "      <td>None</td>\n",
       "      <td>None</td>\n",
       "      <td>2</td>\n",
       "      <td>Cowboys for Christ</td>\n",
       "      <td>GB</td>\n",
       "      <td>None</td>\n",
       "      <td>...</td>\n",
       "      <td>The Wicker Tree</td>\n",
       "      <td>2011</td>\n",
       "      <td>96.0</td>\n",
       "      <td>Drama,Horror</td>\n",
       "      <td>3.9</td>\n",
       "      <td>2328</td>\n",
       "      <td>Sean Barton</td>\n",
       "      <td>1944.0</td>\n",
       "      <td>NaN</td>\n",
       "      <td>editor,editorial_department,assistant_director</td>\n",
       "    </tr>\n",
       "    <tr>\n",
       "      <th>2</th>\n",
       "      <td>tt0323808</td>\n",
       "      <td>10</td>\n",
       "      <td>nm0059247</td>\n",
       "      <td>editor</td>\n",
       "      <td>None</td>\n",
       "      <td>None</td>\n",
       "      <td>3</td>\n",
       "      <td>The Wicker Tree</td>\n",
       "      <td>GB</td>\n",
       "      <td>None</td>\n",
       "      <td>...</td>\n",
       "      <td>The Wicker Tree</td>\n",
       "      <td>2011</td>\n",
       "      <td>96.0</td>\n",
       "      <td>Drama,Horror</td>\n",
       "      <td>3.9</td>\n",
       "      <td>2328</td>\n",
       "      <td>Sean Barton</td>\n",
       "      <td>1944.0</td>\n",
       "      <td>NaN</td>\n",
       "      <td>editor,editorial_department,assistant_director</td>\n",
       "    </tr>\n",
       "    <tr>\n",
       "      <th>3</th>\n",
       "      <td>tt0323808</td>\n",
       "      <td>10</td>\n",
       "      <td>nm0059247</td>\n",
       "      <td>editor</td>\n",
       "      <td>None</td>\n",
       "      <td>None</td>\n",
       "      <td>4</td>\n",
       "      <td>The Wicker Tree</td>\n",
       "      <td>None</td>\n",
       "      <td>None</td>\n",
       "      <td>...</td>\n",
       "      <td>The Wicker Tree</td>\n",
       "      <td>2011</td>\n",
       "      <td>96.0</td>\n",
       "      <td>Drama,Horror</td>\n",
       "      <td>3.9</td>\n",
       "      <td>2328</td>\n",
       "      <td>Sean Barton</td>\n",
       "      <td>1944.0</td>\n",
       "      <td>NaN</td>\n",
       "      <td>editor,editorial_department,assistant_director</td>\n",
       "    </tr>\n",
       "    <tr>\n",
       "      <th>4</th>\n",
       "      <td>tt0323808</td>\n",
       "      <td>10</td>\n",
       "      <td>nm0059247</td>\n",
       "      <td>editor</td>\n",
       "      <td>None</td>\n",
       "      <td>None</td>\n",
       "      <td>5</td>\n",
       "      <td>Плетеное дерево</td>\n",
       "      <td>RU</td>\n",
       "      <td>None</td>\n",
       "      <td>...</td>\n",
       "      <td>The Wicker Tree</td>\n",
       "      <td>2011</td>\n",
       "      <td>96.0</td>\n",
       "      <td>Drama,Horror</td>\n",
       "      <td>3.9</td>\n",
       "      <td>2328</td>\n",
       "      <td>Sean Barton</td>\n",
       "      <td>1944.0</td>\n",
       "      <td>NaN</td>\n",
       "      <td>editor,editorial_department,assistant_director</td>\n",
       "    </tr>\n",
       "  </tbody>\n",
       "</table>\n",
       "<p>5 rows × 24 columns</p>\n",
       "</div>"
      ],
      "text/plain": [
       "    movie_id  ordering  person_id category   job characters  ordering  \\\n",
       "0  tt0323808        10  nm0059247   editor  None       None         1   \n",
       "1  tt0323808        10  nm0059247   editor  None       None         2   \n",
       "2  tt0323808        10  nm0059247   editor  None       None         3   \n",
       "3  tt0323808        10  nm0059247   editor  None       None         4   \n",
       "4  tt0323808        10  nm0059247   editor  None       None         5   \n",
       "\n",
       "                title region language  ...   original_title start_year  \\\n",
       "0             May Day     GB     None  ...  The Wicker Tree       2011   \n",
       "1  Cowboys for Christ     GB     None  ...  The Wicker Tree       2011   \n",
       "2     The Wicker Tree     GB     None  ...  The Wicker Tree       2011   \n",
       "3     The Wicker Tree   None     None  ...  The Wicker Tree       2011   \n",
       "4     Плетеное дерево     RU     None  ...  The Wicker Tree       2011   \n",
       "\n",
       "   runtime_minutes        genres averagerating  numvotes  primary_name  \\\n",
       "0             96.0  Drama,Horror           3.9      2328   Sean Barton   \n",
       "1             96.0  Drama,Horror           3.9      2328   Sean Barton   \n",
       "2             96.0  Drama,Horror           3.9      2328   Sean Barton   \n",
       "3             96.0  Drama,Horror           3.9      2328   Sean Barton   \n",
       "4             96.0  Drama,Horror           3.9      2328   Sean Barton   \n",
       "\n",
       "  birth_year  death_year                              primary_profession  \n",
       "0     1944.0         NaN  editor,editorial_department,assistant_director  \n",
       "1     1944.0         NaN  editor,editorial_department,assistant_director  \n",
       "2     1944.0         NaN  editor,editorial_department,assistant_director  \n",
       "3     1944.0         NaN  editor,editorial_department,assistant_director  \n",
       "4     1944.0         NaN  editor,editorial_department,assistant_director  \n",
       "\n",
       "[5 rows x 24 columns]"
      ]
     },
     "execution_count": 48,
     "metadata": {},
     "output_type": "execute_result"
    }
   ],
   "source": [
    "combined = \"\"\"SELECT *\n",
    "                from principals\n",
    "                JOIN movie_akas USING (movie_id)\n",
    "                JOIN movie_basics USING (movie_id)\n",
    "                JOIN movie_ratings USING (movie_id)\n",
    "                JOIN persons USING (person_id);\"\"\"\n",
    "\n",
    "combined_df = pd.read_sql_query(combined,con)\n",
    "combined_df.head()"
   ]
  },
  {
   "cell_type": "code",
   "execution_count": 49,
   "id": "a6d243fd",
   "metadata": {},
   "outputs": [
    {
     "name": "stdout",
     "output_type": "stream",
     "text": [
      "<class 'pandas.core.frame.DataFrame'>\n",
      "RangeIndex: 2422866 entries, 0 to 2422865\n",
      "Data columns (total 24 columns):\n",
      " #   Column              Dtype  \n",
      "---  ------              -----  \n",
      " 0   movie_id            object \n",
      " 1   ordering            int64  \n",
      " 2   person_id           object \n",
      " 3   category            object \n",
      " 4   job                 object \n",
      " 5   characters          object \n",
      " 6   ordering            int64  \n",
      " 7   title               object \n",
      " 8   region              object \n",
      " 9   language            object \n",
      " 10  types               object \n",
      " 11  attributes          object \n",
      " 12  is_original_title   float64\n",
      " 13  primary_title       object \n",
      " 14  original_title      object \n",
      " 15  start_year          int64  \n",
      " 16  runtime_minutes     float64\n",
      " 17  genres              object \n",
      " 18  averagerating       float64\n",
      " 19  numvotes            int64  \n",
      " 20  primary_name        object \n",
      " 21  birth_year          float64\n",
      " 22  death_year          float64\n",
      " 23  primary_profession  object \n",
      "dtypes: float64(5), int64(4), object(15)\n",
      "memory usage: 443.6+ MB\n"
     ]
    }
   ],
   "source": [
    "imdb_df = combined_df.copy()\n",
    "imdb_df.info()"
   ]
  },
  {
   "cell_type": "code",
   "execution_count": 50,
   "id": "3196e8e5",
   "metadata": {},
   "outputs": [
    {
     "data": {
      "text/plain": [
       "region                0.162510\n",
       "runtime_minutes       0.039211\n",
       "primary_profession    0.021650\n",
       "genres                0.003738\n",
       "dtype: float64"
      ]
     },
     "execution_count": 50,
     "metadata": {},
     "output_type": "execute_result"
    }
   ],
   "source": [
    "#dropping the columns with 40%+ null values\n",
    "imdb_df.drop(labels=['death_year','attributes','language','job','characters','birth_year','types'],axis=1,inplace=True)\n",
    "\n",
    "#checking columns with null values.\n",
    "imdb_df.isna().mean()[imdb_df.isna().mean() > 0].sort_values(ascending=False)"
   ]
  },
  {
   "cell_type": "code",
   "execution_count": 51,
   "id": "eddf8596",
   "metadata": {},
   "outputs": [
    {
     "data": {
      "text/plain": [
       "Series([], dtype: float64)"
      ]
     },
     "execution_count": 51,
     "metadata": {},
     "output_type": "execute_result"
    }
   ],
   "source": [
    "columns_with_null_values = imdb_df.isna().mean()[imdb_df.isna().mean() > 0].index.tolist()\n",
    "columns_with_null_values\n",
    "\n",
    "#I will drop all the rows with null values since they are only a small percentage of the dataset.\n",
    "imdb_df.dropna(axis=0,subset=columns_with_null_values,inplace=True)\n",
    "#checking columns with null values.\n",
    "imdb_df.isna().mean()[imdb_df.isna().mean() > 0].sort_values(ascending=False)"
   ]
  },
  {
   "cell_type": "code",
   "execution_count": 52,
   "id": "26fb9b9a",
   "metadata": {},
   "outputs": [
    {
     "name": "stdout",
     "output_type": "stream",
     "text": [
      "<class 'pandas.core.frame.DataFrame'>\n",
      "Int64Index: 1909588 entries, 0 to 2422865\n",
      "Data columns (total 17 columns):\n",
      " #   Column              Dtype  \n",
      "---  ------              -----  \n",
      " 0   movie_id            object \n",
      " 1   ordering            int64  \n",
      " 2   person_id           object \n",
      " 3   category            object \n",
      " 4   ordering            int64  \n",
      " 5   title               object \n",
      " 6   region              object \n",
      " 7   is_original_title   float64\n",
      " 8   primary_title       object \n",
      " 9   original_title      object \n",
      " 10  start_year          int64  \n",
      " 11  runtime_minutes     float64\n",
      " 12  genres              object \n",
      " 13  averagerating       float64\n",
      " 14  numvotes            int64  \n",
      " 15  primary_name        object \n",
      " 16  primary_profession  object \n",
      "dtypes: float64(3), int64(4), object(10)\n",
      "memory usage: 262.2+ MB\n"
     ]
    }
   ],
   "source": [
    "imdb_df.info()"
   ]
  },
  {
   "cell_type": "code",
   "execution_count": 53,
   "id": "5923a934",
   "metadata": {},
   "outputs": [
    {
     "data": {
      "text/html": [
       "<div>\n",
       "<style scoped>\n",
       "    .dataframe tbody tr th:only-of-type {\n",
       "        vertical-align: middle;\n",
       "    }\n",
       "\n",
       "    .dataframe tbody tr th {\n",
       "        vertical-align: top;\n",
       "    }\n",
       "\n",
       "    .dataframe thead th {\n",
       "        text-align: right;\n",
       "    }\n",
       "</style>\n",
       "<table border=\"1\" class=\"dataframe\">\n",
       "  <thead>\n",
       "    <tr style=\"text-align: right;\">\n",
       "      <th></th>\n",
       "      <th>Unnamed: 0</th>\n",
       "      <th>genre_ids</th>\n",
       "      <th>id</th>\n",
       "      <th>original_language</th>\n",
       "      <th>original_title</th>\n",
       "      <th>popularity</th>\n",
       "      <th>release_date</th>\n",
       "      <th>title</th>\n",
       "      <th>vote_average</th>\n",
       "      <th>vote_count</th>\n",
       "    </tr>\n",
       "  </thead>\n",
       "  <tbody>\n",
       "    <tr>\n",
       "      <th>0</th>\n",
       "      <td>0</td>\n",
       "      <td>[12, 14, 10751]</td>\n",
       "      <td>12444</td>\n",
       "      <td>en</td>\n",
       "      <td>Harry Potter and the Deathly Hallows: Part 1</td>\n",
       "      <td>33.533</td>\n",
       "      <td>2010-11-19</td>\n",
       "      <td>Harry Potter and the Deathly Hallows: Part 1</td>\n",
       "      <td>7.7</td>\n",
       "      <td>10788</td>\n",
       "    </tr>\n",
       "    <tr>\n",
       "      <th>1</th>\n",
       "      <td>1</td>\n",
       "      <td>[14, 12, 16, 10751]</td>\n",
       "      <td>10191</td>\n",
       "      <td>en</td>\n",
       "      <td>How to Train Your Dragon</td>\n",
       "      <td>28.734</td>\n",
       "      <td>2010-03-26</td>\n",
       "      <td>How to Train Your Dragon</td>\n",
       "      <td>7.7</td>\n",
       "      <td>7610</td>\n",
       "    </tr>\n",
       "    <tr>\n",
       "      <th>2</th>\n",
       "      <td>2</td>\n",
       "      <td>[12, 28, 878]</td>\n",
       "      <td>10138</td>\n",
       "      <td>en</td>\n",
       "      <td>Iron Man 2</td>\n",
       "      <td>28.515</td>\n",
       "      <td>2010-05-07</td>\n",
       "      <td>Iron Man 2</td>\n",
       "      <td>6.8</td>\n",
       "      <td>12368</td>\n",
       "    </tr>\n",
       "    <tr>\n",
       "      <th>3</th>\n",
       "      <td>3</td>\n",
       "      <td>[16, 35, 10751]</td>\n",
       "      <td>862</td>\n",
       "      <td>en</td>\n",
       "      <td>Toy Story</td>\n",
       "      <td>28.005</td>\n",
       "      <td>1995-11-22</td>\n",
       "      <td>Toy Story</td>\n",
       "      <td>7.9</td>\n",
       "      <td>10174</td>\n",
       "    </tr>\n",
       "    <tr>\n",
       "      <th>4</th>\n",
       "      <td>4</td>\n",
       "      <td>[28, 878, 12]</td>\n",
       "      <td>27205</td>\n",
       "      <td>en</td>\n",
       "      <td>Inception</td>\n",
       "      <td>27.920</td>\n",
       "      <td>2010-07-16</td>\n",
       "      <td>Inception</td>\n",
       "      <td>8.3</td>\n",
       "      <td>22186</td>\n",
       "    </tr>\n",
       "  </tbody>\n",
       "</table>\n",
       "</div>"
      ],
      "text/plain": [
       "   Unnamed: 0            genre_ids     id original_language  \\\n",
       "0           0      [12, 14, 10751]  12444                en   \n",
       "1           1  [14, 12, 16, 10751]  10191                en   \n",
       "2           2        [12, 28, 878]  10138                en   \n",
       "3           3      [16, 35, 10751]    862                en   \n",
       "4           4        [28, 878, 12]  27205                en   \n",
       "\n",
       "                                 original_title  popularity release_date  \\\n",
       "0  Harry Potter and the Deathly Hallows: Part 1      33.533   2010-11-19   \n",
       "1                      How to Train Your Dragon      28.734   2010-03-26   \n",
       "2                                    Iron Man 2      28.515   2010-05-07   \n",
       "3                                     Toy Story      28.005   1995-11-22   \n",
       "4                                     Inception      27.920   2010-07-16   \n",
       "\n",
       "                                          title  vote_average  vote_count  \n",
       "0  Harry Potter and the Deathly Hallows: Part 1           7.7       10788  \n",
       "1                      How to Train Your Dragon           7.7        7610  \n",
       "2                                    Iron Man 2           6.8       12368  \n",
       "3                                     Toy Story           7.9       10174  \n",
       "4                                     Inception           8.3       22186  "
      ]
     },
     "execution_count": 53,
     "metadata": {},
     "output_type": "execute_result"
    }
   ],
   "source": [
    "tmdb_movies_df = pd.read_csv(r'zippedData\\tmdb.movies.csv\\tmdb.movies.csv')\n",
    "tmdb_movies_df.head()"
   ]
  },
  {
   "cell_type": "code",
   "execution_count": 54,
   "id": "eda45f78",
   "metadata": {},
   "outputs": [
    {
     "data": {
      "text/html": [
       "<div>\n",
       "<style scoped>\n",
       "    .dataframe tbody tr th:only-of-type {\n",
       "        vertical-align: middle;\n",
       "    }\n",
       "\n",
       "    .dataframe tbody tr th {\n",
       "        vertical-align: top;\n",
       "    }\n",
       "\n",
       "    .dataframe thead th {\n",
       "        text-align: right;\n",
       "    }\n",
       "</style>\n",
       "<table border=\"1\" class=\"dataframe\">\n",
       "  <thead>\n",
       "    <tr style=\"text-align: right;\">\n",
       "      <th></th>\n",
       "      <th>id</th>\n",
       "      <th>release_date</th>\n",
       "      <th>movie</th>\n",
       "      <th>production_budget</th>\n",
       "      <th>domestic_gross</th>\n",
       "      <th>worldwide_gross</th>\n",
       "    </tr>\n",
       "  </thead>\n",
       "  <tbody>\n",
       "    <tr>\n",
       "      <th>0</th>\n",
       "      <td>1</td>\n",
       "      <td>Dec 18, 2009</td>\n",
       "      <td>Avatar</td>\n",
       "      <td>$425,000,000</td>\n",
       "      <td>$760,507,625</td>\n",
       "      <td>$2,776,345,279</td>\n",
       "    </tr>\n",
       "    <tr>\n",
       "      <th>1</th>\n",
       "      <td>2</td>\n",
       "      <td>May 20, 2011</td>\n",
       "      <td>Pirates of the Caribbean: On Stranger Tides</td>\n",
       "      <td>$410,600,000</td>\n",
       "      <td>$241,063,875</td>\n",
       "      <td>$1,045,663,875</td>\n",
       "    </tr>\n",
       "    <tr>\n",
       "      <th>2</th>\n",
       "      <td>3</td>\n",
       "      <td>Jun 7, 2019</td>\n",
       "      <td>Dark Phoenix</td>\n",
       "      <td>$350,000,000</td>\n",
       "      <td>$42,762,350</td>\n",
       "      <td>$149,762,350</td>\n",
       "    </tr>\n",
       "    <tr>\n",
       "      <th>3</th>\n",
       "      <td>4</td>\n",
       "      <td>May 1, 2015</td>\n",
       "      <td>Avengers: Age of Ultron</td>\n",
       "      <td>$330,600,000</td>\n",
       "      <td>$459,005,868</td>\n",
       "      <td>$1,403,013,963</td>\n",
       "    </tr>\n",
       "    <tr>\n",
       "      <th>4</th>\n",
       "      <td>5</td>\n",
       "      <td>Dec 15, 2017</td>\n",
       "      <td>Star Wars Ep. VIII: The Last Jedi</td>\n",
       "      <td>$317,000,000</td>\n",
       "      <td>$620,181,382</td>\n",
       "      <td>$1,316,721,747</td>\n",
       "    </tr>\n",
       "  </tbody>\n",
       "</table>\n",
       "</div>"
      ],
      "text/plain": [
       "   id  release_date                                        movie  \\\n",
       "0   1  Dec 18, 2009                                       Avatar   \n",
       "1   2  May 20, 2011  Pirates of the Caribbean: On Stranger Tides   \n",
       "2   3   Jun 7, 2019                                 Dark Phoenix   \n",
       "3   4   May 1, 2015                      Avengers: Age of Ultron   \n",
       "4   5  Dec 15, 2017            Star Wars Ep. VIII: The Last Jedi   \n",
       "\n",
       "  production_budget domestic_gross worldwide_gross  \n",
       "0      $425,000,000   $760,507,625  $2,776,345,279  \n",
       "1      $410,600,000   $241,063,875  $1,045,663,875  \n",
       "2      $350,000,000    $42,762,350    $149,762,350  \n",
       "3      $330,600,000   $459,005,868  $1,403,013,963  \n",
       "4      $317,000,000   $620,181,382  $1,316,721,747  "
      ]
     },
     "execution_count": 54,
     "metadata": {},
     "output_type": "execute_result"
    }
   ],
   "source": [
    "movie_budgets_df = pd.read_csv(r'zippedData\\tn.movie_budgets.csv\\tn.movie_budgets.csv') #,on_bad_lines='skip'\n",
    "\n",
    "movie_budgets_df.head()"
   ]
  },
  {
   "cell_type": "code",
   "execution_count": 55,
   "id": "628c6f31",
   "metadata": {},
   "outputs": [
    {
     "data": {
      "text/html": [
       "<div>\n",
       "<style scoped>\n",
       "    .dataframe tbody tr th:only-of-type {\n",
       "        vertical-align: middle;\n",
       "    }\n",
       "\n",
       "    .dataframe tbody tr th {\n",
       "        vertical-align: top;\n",
       "    }\n",
       "\n",
       "    .dataframe thead th {\n",
       "        text-align: right;\n",
       "    }\n",
       "</style>\n",
       "<table border=\"1\" class=\"dataframe\">\n",
       "  <thead>\n",
       "    <tr style=\"text-align: right;\">\n",
       "      <th></th>\n",
       "      <th>movie_id</th>\n",
       "      <th>ordering</th>\n",
       "      <th>person_id</th>\n",
       "      <th>category</th>\n",
       "      <th>ordering</th>\n",
       "      <th>title</th>\n",
       "      <th>region</th>\n",
       "      <th>is_original_title</th>\n",
       "      <th>primary_title</th>\n",
       "      <th>original_title</th>\n",
       "      <th>...</th>\n",
       "      <th>averagerating</th>\n",
       "      <th>numvotes</th>\n",
       "      <th>primary_name</th>\n",
       "      <th>primary_profession</th>\n",
       "      <th>id</th>\n",
       "      <th>release_date</th>\n",
       "      <th>movie</th>\n",
       "      <th>production_budget</th>\n",
       "      <th>domestic_gross</th>\n",
       "      <th>worldwide_gross</th>\n",
       "    </tr>\n",
       "  </thead>\n",
       "  <tbody>\n",
       "    <tr>\n",
       "      <th>0</th>\n",
       "      <td>tt0475290</td>\n",
       "      <td>10</td>\n",
       "      <td>nm0005683</td>\n",
       "      <td>cinematographer</td>\n",
       "      <td>24</td>\n",
       "      <td>Hail, Caesar!</td>\n",
       "      <td>GB</td>\n",
       "      <td>0.0</td>\n",
       "      <td>Hail, Caesar!</td>\n",
       "      <td>Hail, Caesar!</td>\n",
       "      <td>...</td>\n",
       "      <td>6.3</td>\n",
       "      <td>111422</td>\n",
       "      <td>Roger Deakins</td>\n",
       "      <td>cinematographer,camera_department,miscellaneous</td>\n",
       "      <td>22</td>\n",
       "      <td>Feb 5, 2016</td>\n",
       "      <td>Hail, Caesar!</td>\n",
       "      <td>$22,000,000</td>\n",
       "      <td>$30,080,225</td>\n",
       "      <td>$64,160,680</td>\n",
       "    </tr>\n",
       "    <tr>\n",
       "      <th>1</th>\n",
       "      <td>tt0475290</td>\n",
       "      <td>1</td>\n",
       "      <td>nm0000982</td>\n",
       "      <td>actor</td>\n",
       "      <td>24</td>\n",
       "      <td>Hail, Caesar!</td>\n",
       "      <td>GB</td>\n",
       "      <td>0.0</td>\n",
       "      <td>Hail, Caesar!</td>\n",
       "      <td>Hail, Caesar!</td>\n",
       "      <td>...</td>\n",
       "      <td>6.3</td>\n",
       "      <td>111422</td>\n",
       "      <td>Josh Brolin</td>\n",
       "      <td>actor,producer,writer</td>\n",
       "      <td>22</td>\n",
       "      <td>Feb 5, 2016</td>\n",
       "      <td>Hail, Caesar!</td>\n",
       "      <td>$22,000,000</td>\n",
       "      <td>$30,080,225</td>\n",
       "      <td>$64,160,680</td>\n",
       "    </tr>\n",
       "    <tr>\n",
       "      <th>2</th>\n",
       "      <td>tt0475290</td>\n",
       "      <td>2</td>\n",
       "      <td>nm0000123</td>\n",
       "      <td>actor</td>\n",
       "      <td>24</td>\n",
       "      <td>Hail, Caesar!</td>\n",
       "      <td>GB</td>\n",
       "      <td>0.0</td>\n",
       "      <td>Hail, Caesar!</td>\n",
       "      <td>Hail, Caesar!</td>\n",
       "      <td>...</td>\n",
       "      <td>6.3</td>\n",
       "      <td>111422</td>\n",
       "      <td>George Clooney</td>\n",
       "      <td>actor,producer,director</td>\n",
       "      <td>22</td>\n",
       "      <td>Feb 5, 2016</td>\n",
       "      <td>Hail, Caesar!</td>\n",
       "      <td>$22,000,000</td>\n",
       "      <td>$30,080,225</td>\n",
       "      <td>$64,160,680</td>\n",
       "    </tr>\n",
       "    <tr>\n",
       "      <th>3</th>\n",
       "      <td>tt0475290</td>\n",
       "      <td>3</td>\n",
       "      <td>nm2403277</td>\n",
       "      <td>actor</td>\n",
       "      <td>24</td>\n",
       "      <td>Hail, Caesar!</td>\n",
       "      <td>GB</td>\n",
       "      <td>0.0</td>\n",
       "      <td>Hail, Caesar!</td>\n",
       "      <td>Hail, Caesar!</td>\n",
       "      <td>...</td>\n",
       "      <td>6.3</td>\n",
       "      <td>111422</td>\n",
       "      <td>Alden Ehrenreich</td>\n",
       "      <td>actor,soundtrack</td>\n",
       "      <td>22</td>\n",
       "      <td>Feb 5, 2016</td>\n",
       "      <td>Hail, Caesar!</td>\n",
       "      <td>$22,000,000</td>\n",
       "      <td>$30,080,225</td>\n",
       "      <td>$64,160,680</td>\n",
       "    </tr>\n",
       "    <tr>\n",
       "      <th>4</th>\n",
       "      <td>tt0475290</td>\n",
       "      <td>4</td>\n",
       "      <td>nm0000146</td>\n",
       "      <td>actor</td>\n",
       "      <td>24</td>\n",
       "      <td>Hail, Caesar!</td>\n",
       "      <td>GB</td>\n",
       "      <td>0.0</td>\n",
       "      <td>Hail, Caesar!</td>\n",
       "      <td>Hail, Caesar!</td>\n",
       "      <td>...</td>\n",
       "      <td>6.3</td>\n",
       "      <td>111422</td>\n",
       "      <td>Ralph Fiennes</td>\n",
       "      <td>actor,director,soundtrack</td>\n",
       "      <td>22</td>\n",
       "      <td>Feb 5, 2016</td>\n",
       "      <td>Hail, Caesar!</td>\n",
       "      <td>$22,000,000</td>\n",
       "      <td>$30,080,225</td>\n",
       "      <td>$64,160,680</td>\n",
       "    </tr>\n",
       "  </tbody>\n",
       "</table>\n",
       "<p>5 rows × 23 columns</p>\n",
       "</div>"
      ],
      "text/plain": [
       "    movie_id  ordering  person_id         category  ordering          title  \\\n",
       "0  tt0475290        10  nm0005683  cinematographer        24  Hail, Caesar!   \n",
       "1  tt0475290         1  nm0000982            actor        24  Hail, Caesar!   \n",
       "2  tt0475290         2  nm0000123            actor        24  Hail, Caesar!   \n",
       "3  tt0475290         3  nm2403277            actor        24  Hail, Caesar!   \n",
       "4  tt0475290         4  nm0000146            actor        24  Hail, Caesar!   \n",
       "\n",
       "  region  is_original_title  primary_title original_title  ...  averagerating  \\\n",
       "0     GB                0.0  Hail, Caesar!  Hail, Caesar!  ...            6.3   \n",
       "1     GB                0.0  Hail, Caesar!  Hail, Caesar!  ...            6.3   \n",
       "2     GB                0.0  Hail, Caesar!  Hail, Caesar!  ...            6.3   \n",
       "3     GB                0.0  Hail, Caesar!  Hail, Caesar!  ...            6.3   \n",
       "4     GB                0.0  Hail, Caesar!  Hail, Caesar!  ...            6.3   \n",
       "\n",
       "   numvotes      primary_name  \\\n",
       "0    111422     Roger Deakins   \n",
       "1    111422       Josh Brolin   \n",
       "2    111422    George Clooney   \n",
       "3    111422  Alden Ehrenreich   \n",
       "4    111422     Ralph Fiennes   \n",
       "\n",
       "                                primary_profession  id release_date  \\\n",
       "0  cinematographer,camera_department,miscellaneous  22  Feb 5, 2016   \n",
       "1                            actor,producer,writer  22  Feb 5, 2016   \n",
       "2                          actor,producer,director  22  Feb 5, 2016   \n",
       "3                                 actor,soundtrack  22  Feb 5, 2016   \n",
       "4                        actor,director,soundtrack  22  Feb 5, 2016   \n",
       "\n",
       "           movie  production_budget domestic_gross worldwide_gross  \n",
       "0  Hail, Caesar!        $22,000,000    $30,080,225     $64,160,680  \n",
       "1  Hail, Caesar!        $22,000,000    $30,080,225     $64,160,680  \n",
       "2  Hail, Caesar!        $22,000,000    $30,080,225     $64,160,680  \n",
       "3  Hail, Caesar!        $22,000,000    $30,080,225     $64,160,680  \n",
       "4  Hail, Caesar!        $22,000,000    $30,080,225     $64,160,680  \n",
       "\n",
       "[5 rows x 23 columns]"
      ]
     },
     "execution_count": 55,
     "metadata": {},
     "output_type": "execute_result"
    }
   ],
   "source": [
    "imdb_numbers_merge = pd.merge(imdb_df,movie_budgets_df,left_on='title',right_on='movie')\n",
    "imdb_numbers_merge.head()"
   ]
  },
  {
   "cell_type": "code",
   "execution_count": 56,
   "id": "9777ede9",
   "metadata": {},
   "outputs": [
    {
     "name": "stdout",
     "output_type": "stream",
     "text": [
      "<class 'pandas.core.frame.DataFrame'>\n",
      "Int64Index: 72390 entries, 0 to 72389\n",
      "Data columns (total 23 columns):\n",
      " #   Column              Non-Null Count  Dtype  \n",
      "---  ------              --------------  -----  \n",
      " 0   movie_id            72390 non-null  object \n",
      " 1   ordering            72390 non-null  int64  \n",
      " 2   person_id           72390 non-null  object \n",
      " 3   category            72390 non-null  object \n",
      " 4   ordering            72390 non-null  int64  \n",
      " 5   title               72390 non-null  object \n",
      " 6   region              72390 non-null  object \n",
      " 7   is_original_title   72390 non-null  float64\n",
      " 8   primary_title       72390 non-null  object \n",
      " 9   original_title      72390 non-null  object \n",
      " 10  start_year          72390 non-null  int64  \n",
      " 11  runtime_minutes     72390 non-null  float64\n",
      " 12  genres              72390 non-null  object \n",
      " 13  averagerating       72390 non-null  float64\n",
      " 14  numvotes            72390 non-null  int64  \n",
      " 15  primary_name        72390 non-null  object \n",
      " 16  primary_profession  72390 non-null  object \n",
      " 17  id                  72390 non-null  int64  \n",
      " 18  release_date        72390 non-null  object \n",
      " 19  movie               72390 non-null  object \n",
      " 20  production_budget   72390 non-null  object \n",
      " 21  domestic_gross      72390 non-null  object \n",
      " 22  worldwide_gross     72390 non-null  object \n",
      "dtypes: float64(3), int64(5), object(15)\n",
      "memory usage: 13.3+ MB\n"
     ]
    }
   ],
   "source": [
    "imdb_numbers_merge.info()"
   ]
  },
  {
   "cell_type": "code",
   "execution_count": 57,
   "id": "ae018758",
   "metadata": {},
   "outputs": [
    {
     "data": {
      "text/html": [
       "<div>\n",
       "<style scoped>\n",
       "    .dataframe tbody tr th:only-of-type {\n",
       "        vertical-align: middle;\n",
       "    }\n",
       "\n",
       "    .dataframe tbody tr th {\n",
       "        vertical-align: top;\n",
       "    }\n",
       "\n",
       "    .dataframe thead th {\n",
       "        text-align: right;\n",
       "    }\n",
       "</style>\n",
       "<table border=\"1\" class=\"dataframe\">\n",
       "  <thead>\n",
       "    <tr style=\"text-align: right;\">\n",
       "      <th></th>\n",
       "      <th>movie_id</th>\n",
       "      <th>ordering</th>\n",
       "      <th>person_id</th>\n",
       "      <th>category</th>\n",
       "      <th>ordering</th>\n",
       "      <th>title</th>\n",
       "      <th>region</th>\n",
       "      <th>is_original_title</th>\n",
       "      <th>primary_title</th>\n",
       "      <th>original_title_x</th>\n",
       "      <th>...</th>\n",
       "      <th>primary_profession</th>\n",
       "      <th>Unnamed: 0</th>\n",
       "      <th>genre_ids</th>\n",
       "      <th>id</th>\n",
       "      <th>original_language</th>\n",
       "      <th>original_title_y</th>\n",
       "      <th>popularity</th>\n",
       "      <th>release_date</th>\n",
       "      <th>vote_average</th>\n",
       "      <th>vote_count</th>\n",
       "    </tr>\n",
       "  </thead>\n",
       "  <tbody>\n",
       "    <tr>\n",
       "      <th>0</th>\n",
       "      <td>tt0323808</td>\n",
       "      <td>10</td>\n",
       "      <td>nm0059247</td>\n",
       "      <td>editor</td>\n",
       "      <td>3</td>\n",
       "      <td>The Wicker Tree</td>\n",
       "      <td>GB</td>\n",
       "      <td>0.0</td>\n",
       "      <td>The Wicker Tree</td>\n",
       "      <td>The Wicker Tree</td>\n",
       "      <td>...</td>\n",
       "      <td>editor,editorial_department,assistant_director</td>\n",
       "      <td>5847</td>\n",
       "      <td>[9648, 27, 53]</td>\n",
       "      <td>79544</td>\n",
       "      <td>en</td>\n",
       "      <td>The Wicker Tree</td>\n",
       "      <td>2.962</td>\n",
       "      <td>2012-01-27</td>\n",
       "      <td>4.4</td>\n",
       "      <td>25</td>\n",
       "    </tr>\n",
       "    <tr>\n",
       "      <th>1</th>\n",
       "      <td>tt0323808</td>\n",
       "      <td>1</td>\n",
       "      <td>nm3579312</td>\n",
       "      <td>actress</td>\n",
       "      <td>3</td>\n",
       "      <td>The Wicker Tree</td>\n",
       "      <td>GB</td>\n",
       "      <td>0.0</td>\n",
       "      <td>The Wicker Tree</td>\n",
       "      <td>The Wicker Tree</td>\n",
       "      <td>...</td>\n",
       "      <td>actress,soundtrack</td>\n",
       "      <td>5847</td>\n",
       "      <td>[9648, 27, 53]</td>\n",
       "      <td>79544</td>\n",
       "      <td>en</td>\n",
       "      <td>The Wicker Tree</td>\n",
       "      <td>2.962</td>\n",
       "      <td>2012-01-27</td>\n",
       "      <td>4.4</td>\n",
       "      <td>25</td>\n",
       "    </tr>\n",
       "    <tr>\n",
       "      <th>2</th>\n",
       "      <td>tt0323808</td>\n",
       "      <td>2</td>\n",
       "      <td>nm2694680</td>\n",
       "      <td>actor</td>\n",
       "      <td>3</td>\n",
       "      <td>The Wicker Tree</td>\n",
       "      <td>GB</td>\n",
       "      <td>0.0</td>\n",
       "      <td>The Wicker Tree</td>\n",
       "      <td>The Wicker Tree</td>\n",
       "      <td>...</td>\n",
       "      <td>actor</td>\n",
       "      <td>5847</td>\n",
       "      <td>[9648, 27, 53]</td>\n",
       "      <td>79544</td>\n",
       "      <td>en</td>\n",
       "      <td>The Wicker Tree</td>\n",
       "      <td>2.962</td>\n",
       "      <td>2012-01-27</td>\n",
       "      <td>4.4</td>\n",
       "      <td>25</td>\n",
       "    </tr>\n",
       "    <tr>\n",
       "      <th>3</th>\n",
       "      <td>tt0323808</td>\n",
       "      <td>3</td>\n",
       "      <td>nm0574615</td>\n",
       "      <td>actor</td>\n",
       "      <td>3</td>\n",
       "      <td>The Wicker Tree</td>\n",
       "      <td>GB</td>\n",
       "      <td>0.0</td>\n",
       "      <td>The Wicker Tree</td>\n",
       "      <td>The Wicker Tree</td>\n",
       "      <td>...</td>\n",
       "      <td>actor,soundtrack,director</td>\n",
       "      <td>5847</td>\n",
       "      <td>[9648, 27, 53]</td>\n",
       "      <td>79544</td>\n",
       "      <td>en</td>\n",
       "      <td>The Wicker Tree</td>\n",
       "      <td>2.962</td>\n",
       "      <td>2012-01-27</td>\n",
       "      <td>4.4</td>\n",
       "      <td>25</td>\n",
       "    </tr>\n",
       "    <tr>\n",
       "      <th>4</th>\n",
       "      <td>tt0323808</td>\n",
       "      <td>4</td>\n",
       "      <td>nm0502652</td>\n",
       "      <td>actress</td>\n",
       "      <td>3</td>\n",
       "      <td>The Wicker Tree</td>\n",
       "      <td>GB</td>\n",
       "      <td>0.0</td>\n",
       "      <td>The Wicker Tree</td>\n",
       "      <td>The Wicker Tree</td>\n",
       "      <td>...</td>\n",
       "      <td>actress</td>\n",
       "      <td>5847</td>\n",
       "      <td>[9648, 27, 53]</td>\n",
       "      <td>79544</td>\n",
       "      <td>en</td>\n",
       "      <td>The Wicker Tree</td>\n",
       "      <td>2.962</td>\n",
       "      <td>2012-01-27</td>\n",
       "      <td>4.4</td>\n",
       "      <td>25</td>\n",
       "    </tr>\n",
       "  </tbody>\n",
       "</table>\n",
       "<p>5 rows × 26 columns</p>\n",
       "</div>"
      ],
      "text/plain": [
       "    movie_id  ordering  person_id category  ordering            title region  \\\n",
       "0  tt0323808        10  nm0059247   editor         3  The Wicker Tree     GB   \n",
       "1  tt0323808         1  nm3579312  actress         3  The Wicker Tree     GB   \n",
       "2  tt0323808         2  nm2694680    actor         3  The Wicker Tree     GB   \n",
       "3  tt0323808         3  nm0574615    actor         3  The Wicker Tree     GB   \n",
       "4  tt0323808         4  nm0502652  actress         3  The Wicker Tree     GB   \n",
       "\n",
       "   is_original_title    primary_title original_title_x  ...  \\\n",
       "0                0.0  The Wicker Tree  The Wicker Tree  ...   \n",
       "1                0.0  The Wicker Tree  The Wicker Tree  ...   \n",
       "2                0.0  The Wicker Tree  The Wicker Tree  ...   \n",
       "3                0.0  The Wicker Tree  The Wicker Tree  ...   \n",
       "4                0.0  The Wicker Tree  The Wicker Tree  ...   \n",
       "\n",
       "                               primary_profession  Unnamed: 0       genre_ids  \\\n",
       "0  editor,editorial_department,assistant_director        5847  [9648, 27, 53]   \n",
       "1                              actress,soundtrack        5847  [9648, 27, 53]   \n",
       "2                                           actor        5847  [9648, 27, 53]   \n",
       "3                       actor,soundtrack,director        5847  [9648, 27, 53]   \n",
       "4                                         actress        5847  [9648, 27, 53]   \n",
       "\n",
       "      id  original_language original_title_y popularity  release_date  \\\n",
       "0  79544                 en  The Wicker Tree      2.962    2012-01-27   \n",
       "1  79544                 en  The Wicker Tree      2.962    2012-01-27   \n",
       "2  79544                 en  The Wicker Tree      2.962    2012-01-27   \n",
       "3  79544                 en  The Wicker Tree      2.962    2012-01-27   \n",
       "4  79544                 en  The Wicker Tree      2.962    2012-01-27   \n",
       "\n",
       "  vote_average  vote_count  \n",
       "0          4.4          25  \n",
       "1          4.4          25  \n",
       "2          4.4          25  \n",
       "3          4.4          25  \n",
       "4          4.4          25  \n",
       "\n",
       "[5 rows x 26 columns]"
      ]
     },
     "execution_count": 57,
     "metadata": {},
     "output_type": "execute_result"
    }
   ],
   "source": [
    "imdb_tmdb = pd.merge(imdb_df,tmdb_movies_df,on='title')\n",
    "imdb_tmdb.head()"
   ]
  },
  {
   "cell_type": "code",
   "execution_count": 58,
   "id": "94e6e943",
   "metadata": {},
   "outputs": [
    {
     "name": "stdout",
     "output_type": "stream",
     "text": [
      "<class 'pandas.core.frame.DataFrame'>\n",
      "Int64Index: 289507 entries, 0 to 289506\n",
      "Data columns (total 26 columns):\n",
      " #   Column              Non-Null Count   Dtype  \n",
      "---  ------              --------------   -----  \n",
      " 0   movie_id            289507 non-null  object \n",
      " 1   ordering            289507 non-null  int64  \n",
      " 2   person_id           289507 non-null  object \n",
      " 3   category            289507 non-null  object \n",
      " 4   ordering            289507 non-null  int64  \n",
      " 5   title               289507 non-null  object \n",
      " 6   region              289507 non-null  object \n",
      " 7   is_original_title   289507 non-null  float64\n",
      " 8   primary_title       289507 non-null  object \n",
      " 9   original_title_x    289507 non-null  object \n",
      " 10  start_year          289507 non-null  int64  \n",
      " 11  runtime_minutes     289507 non-null  float64\n",
      " 12  genres              289507 non-null  object \n",
      " 13  averagerating       289507 non-null  float64\n",
      " 14  numvotes            289507 non-null  int64  \n",
      " 15  primary_name        289507 non-null  object \n",
      " 16  primary_profession  289507 non-null  object \n",
      " 17  Unnamed: 0          289507 non-null  int64  \n",
      " 18  genre_ids           289507 non-null  object \n",
      " 19  id                  289507 non-null  int64  \n",
      " 20  original_language   289507 non-null  object \n",
      " 21  original_title_y    289507 non-null  object \n",
      " 22  popularity          289507 non-null  float64\n",
      " 23  release_date        289507 non-null  object \n",
      " 24  vote_average        289507 non-null  float64\n",
      " 25  vote_count          289507 non-null  int64  \n",
      "dtypes: float64(5), int64(7), object(14)\n",
      "memory usage: 59.6+ MB\n"
     ]
    }
   ],
   "source": [
    "imdb_tmdb.info()"
   ]
  },
  {
   "cell_type": "code",
   "execution_count": 59,
   "id": "a3457489",
   "metadata": {},
   "outputs": [
    {
     "data": {
      "text/html": [
       "<div>\n",
       "<style scoped>\n",
       "    .dataframe tbody tr th:only-of-type {\n",
       "        vertical-align: middle;\n",
       "    }\n",
       "\n",
       "    .dataframe tbody tr th {\n",
       "        vertical-align: top;\n",
       "    }\n",
       "\n",
       "    .dataframe thead th {\n",
       "        text-align: right;\n",
       "    }\n",
       "</style>\n",
       "<table border=\"1\" class=\"dataframe\">\n",
       "  <thead>\n",
       "    <tr style=\"text-align: right;\">\n",
       "      <th></th>\n",
       "      <th>movie_id</th>\n",
       "      <th>ordering</th>\n",
       "      <th>person_id</th>\n",
       "      <th>category</th>\n",
       "      <th>ordering</th>\n",
       "      <th>title</th>\n",
       "      <th>region</th>\n",
       "      <th>is_original_title</th>\n",
       "      <th>primary_title</th>\n",
       "      <th>original_title_x</th>\n",
       "      <th>...</th>\n",
       "      <th>popularity</th>\n",
       "      <th>release_date_x</th>\n",
       "      <th>vote_average</th>\n",
       "      <th>vote_count</th>\n",
       "      <th>id_y</th>\n",
       "      <th>release_date_y</th>\n",
       "      <th>movie</th>\n",
       "      <th>production_budget</th>\n",
       "      <th>domestic_gross</th>\n",
       "      <th>worldwide_gross</th>\n",
       "    </tr>\n",
       "  </thead>\n",
       "  <tbody>\n",
       "    <tr>\n",
       "      <th>0</th>\n",
       "      <td>tt0475290</td>\n",
       "      <td>10</td>\n",
       "      <td>nm0005683</td>\n",
       "      <td>cinematographer</td>\n",
       "      <td>24</td>\n",
       "      <td>Hail, Caesar!</td>\n",
       "      <td>GB</td>\n",
       "      <td>0.0</td>\n",
       "      <td>Hail, Caesar!</td>\n",
       "      <td>Hail, Caesar!</td>\n",
       "      <td>...</td>\n",
       "      <td>12.312</td>\n",
       "      <td>2016-02-05</td>\n",
       "      <td>5.9</td>\n",
       "      <td>2328</td>\n",
       "      <td>22</td>\n",
       "      <td>Feb 5, 2016</td>\n",
       "      <td>Hail, Caesar!</td>\n",
       "      <td>$22,000,000</td>\n",
       "      <td>$30,080,225</td>\n",
       "      <td>$64,160,680</td>\n",
       "    </tr>\n",
       "    <tr>\n",
       "      <th>1</th>\n",
       "      <td>tt0475290</td>\n",
       "      <td>1</td>\n",
       "      <td>nm0000982</td>\n",
       "      <td>actor</td>\n",
       "      <td>24</td>\n",
       "      <td>Hail, Caesar!</td>\n",
       "      <td>GB</td>\n",
       "      <td>0.0</td>\n",
       "      <td>Hail, Caesar!</td>\n",
       "      <td>Hail, Caesar!</td>\n",
       "      <td>...</td>\n",
       "      <td>12.312</td>\n",
       "      <td>2016-02-05</td>\n",
       "      <td>5.9</td>\n",
       "      <td>2328</td>\n",
       "      <td>22</td>\n",
       "      <td>Feb 5, 2016</td>\n",
       "      <td>Hail, Caesar!</td>\n",
       "      <td>$22,000,000</td>\n",
       "      <td>$30,080,225</td>\n",
       "      <td>$64,160,680</td>\n",
       "    </tr>\n",
       "    <tr>\n",
       "      <th>2</th>\n",
       "      <td>tt0475290</td>\n",
       "      <td>2</td>\n",
       "      <td>nm0000123</td>\n",
       "      <td>actor</td>\n",
       "      <td>24</td>\n",
       "      <td>Hail, Caesar!</td>\n",
       "      <td>GB</td>\n",
       "      <td>0.0</td>\n",
       "      <td>Hail, Caesar!</td>\n",
       "      <td>Hail, Caesar!</td>\n",
       "      <td>...</td>\n",
       "      <td>12.312</td>\n",
       "      <td>2016-02-05</td>\n",
       "      <td>5.9</td>\n",
       "      <td>2328</td>\n",
       "      <td>22</td>\n",
       "      <td>Feb 5, 2016</td>\n",
       "      <td>Hail, Caesar!</td>\n",
       "      <td>$22,000,000</td>\n",
       "      <td>$30,080,225</td>\n",
       "      <td>$64,160,680</td>\n",
       "    </tr>\n",
       "    <tr>\n",
       "      <th>3</th>\n",
       "      <td>tt0475290</td>\n",
       "      <td>3</td>\n",
       "      <td>nm2403277</td>\n",
       "      <td>actor</td>\n",
       "      <td>24</td>\n",
       "      <td>Hail, Caesar!</td>\n",
       "      <td>GB</td>\n",
       "      <td>0.0</td>\n",
       "      <td>Hail, Caesar!</td>\n",
       "      <td>Hail, Caesar!</td>\n",
       "      <td>...</td>\n",
       "      <td>12.312</td>\n",
       "      <td>2016-02-05</td>\n",
       "      <td>5.9</td>\n",
       "      <td>2328</td>\n",
       "      <td>22</td>\n",
       "      <td>Feb 5, 2016</td>\n",
       "      <td>Hail, Caesar!</td>\n",
       "      <td>$22,000,000</td>\n",
       "      <td>$30,080,225</td>\n",
       "      <td>$64,160,680</td>\n",
       "    </tr>\n",
       "    <tr>\n",
       "      <th>4</th>\n",
       "      <td>tt0475290</td>\n",
       "      <td>4</td>\n",
       "      <td>nm0000146</td>\n",
       "      <td>actor</td>\n",
       "      <td>24</td>\n",
       "      <td>Hail, Caesar!</td>\n",
       "      <td>GB</td>\n",
       "      <td>0.0</td>\n",
       "      <td>Hail, Caesar!</td>\n",
       "      <td>Hail, Caesar!</td>\n",
       "      <td>...</td>\n",
       "      <td>12.312</td>\n",
       "      <td>2016-02-05</td>\n",
       "      <td>5.9</td>\n",
       "      <td>2328</td>\n",
       "      <td>22</td>\n",
       "      <td>Feb 5, 2016</td>\n",
       "      <td>Hail, Caesar!</td>\n",
       "      <td>$22,000,000</td>\n",
       "      <td>$30,080,225</td>\n",
       "      <td>$64,160,680</td>\n",
       "    </tr>\n",
       "  </tbody>\n",
       "</table>\n",
       "<p>5 rows × 32 columns</p>\n",
       "</div>"
      ],
      "text/plain": [
       "    movie_id  ordering  person_id         category  ordering          title  \\\n",
       "0  tt0475290        10  nm0005683  cinematographer        24  Hail, Caesar!   \n",
       "1  tt0475290         1  nm0000982            actor        24  Hail, Caesar!   \n",
       "2  tt0475290         2  nm0000123            actor        24  Hail, Caesar!   \n",
       "3  tt0475290         3  nm2403277            actor        24  Hail, Caesar!   \n",
       "4  tt0475290         4  nm0000146            actor        24  Hail, Caesar!   \n",
       "\n",
       "  region  is_original_title  primary_title original_title_x  ...  popularity  \\\n",
       "0     GB                0.0  Hail, Caesar!    Hail, Caesar!  ...      12.312   \n",
       "1     GB                0.0  Hail, Caesar!    Hail, Caesar!  ...      12.312   \n",
       "2     GB                0.0  Hail, Caesar!    Hail, Caesar!  ...      12.312   \n",
       "3     GB                0.0  Hail, Caesar!    Hail, Caesar!  ...      12.312   \n",
       "4     GB                0.0  Hail, Caesar!    Hail, Caesar!  ...      12.312   \n",
       "\n",
       "   release_date_x vote_average  vote_count  id_y release_date_y  \\\n",
       "0      2016-02-05          5.9        2328    22    Feb 5, 2016   \n",
       "1      2016-02-05          5.9        2328    22    Feb 5, 2016   \n",
       "2      2016-02-05          5.9        2328    22    Feb 5, 2016   \n",
       "3      2016-02-05          5.9        2328    22    Feb 5, 2016   \n",
       "4      2016-02-05          5.9        2328    22    Feb 5, 2016   \n",
       "\n",
       "           movie  production_budget domestic_gross  worldwide_gross  \n",
       "0  Hail, Caesar!        $22,000,000    $30,080,225      $64,160,680  \n",
       "1  Hail, Caesar!        $22,000,000    $30,080,225      $64,160,680  \n",
       "2  Hail, Caesar!        $22,000,000    $30,080,225      $64,160,680  \n",
       "3  Hail, Caesar!        $22,000,000    $30,080,225      $64,160,680  \n",
       "4  Hail, Caesar!        $22,000,000    $30,080,225      $64,160,680  \n",
       "\n",
       "[5 rows x 32 columns]"
      ]
     },
     "execution_count": 59,
     "metadata": {},
     "output_type": "execute_result"
    }
   ],
   "source": [
    "all_merge = pd.merge(imdb_tmdb,movie_budgets_df,left_on='title',right_on='movie')\n",
    "all_merge.head()"
   ]
  },
  {
   "cell_type": "code",
   "execution_count": 60,
   "id": "c783ae86",
   "metadata": {},
   "outputs": [
    {
     "name": "stdout",
     "output_type": "stream",
     "text": [
      "<class 'pandas.core.frame.DataFrame'>\n",
      "Int64Index: 84687 entries, 0 to 84686\n",
      "Data columns (total 32 columns):\n",
      " #   Column              Non-Null Count  Dtype  \n",
      "---  ------              --------------  -----  \n",
      " 0   movie_id            84687 non-null  object \n",
      " 1   ordering            84687 non-null  int64  \n",
      " 2   person_id           84687 non-null  object \n",
      " 3   category            84687 non-null  object \n",
      " 4   ordering            84687 non-null  int64  \n",
      " 5   title               84687 non-null  object \n",
      " 6   region              84687 non-null  object \n",
      " 7   is_original_title   84687 non-null  float64\n",
      " 8   primary_title       84687 non-null  object \n",
      " 9   original_title_x    84687 non-null  object \n",
      " 10  start_year          84687 non-null  int64  \n",
      " 11  runtime_minutes     84687 non-null  float64\n",
      " 12  genres              84687 non-null  object \n",
      " 13  averagerating       84687 non-null  float64\n",
      " 14  numvotes            84687 non-null  int64  \n",
      " 15  primary_name        84687 non-null  object \n",
      " 16  primary_profession  84687 non-null  object \n",
      " 17  Unnamed: 0          84687 non-null  int64  \n",
      " 18  genre_ids           84687 non-null  object \n",
      " 19  id_x                84687 non-null  int64  \n",
      " 20  original_language   84687 non-null  object \n",
      " 21  original_title_y    84687 non-null  object \n",
      " 22  popularity          84687 non-null  float64\n",
      " 23  release_date_x      84687 non-null  object \n",
      " 24  vote_average        84687 non-null  float64\n",
      " 25  vote_count          84687 non-null  int64  \n",
      " 26  id_y                84687 non-null  int64  \n",
      " 27  release_date_y      84687 non-null  object \n",
      " 28  movie               84687 non-null  object \n",
      " 29  production_budget   84687 non-null  object \n",
      " 30  domestic_gross      84687 non-null  object \n",
      " 31  worldwide_gross     84687 non-null  object \n",
      "dtypes: float64(5), int64(8), object(19)\n",
      "memory usage: 21.3+ MB\n"
     ]
    }
   ],
   "source": [
    "all_merge.info()"
   ]
  },
  {
   "cell_type": "code",
   "execution_count": 61,
   "id": "90a706d9",
   "metadata": {},
   "outputs": [
    {
     "data": {
      "text/html": [
       "<div>\n",
       "<style scoped>\n",
       "    .dataframe tbody tr th:only-of-type {\n",
       "        vertical-align: middle;\n",
       "    }\n",
       "\n",
       "    .dataframe tbody tr th {\n",
       "        vertical-align: top;\n",
       "    }\n",
       "\n",
       "    .dataframe thead th {\n",
       "        text-align: right;\n",
       "    }\n",
       "</style>\n",
       "<table border=\"1\" class=\"dataframe\">\n",
       "  <thead>\n",
       "    <tr style=\"text-align: right;\">\n",
       "      <th></th>\n",
       "      <th>movie_id</th>\n",
       "      <th>ordering</th>\n",
       "      <th>person_id</th>\n",
       "      <th>category</th>\n",
       "      <th>ordering</th>\n",
       "      <th>title</th>\n",
       "      <th>region</th>\n",
       "      <th>is_original_title</th>\n",
       "      <th>primary_title</th>\n",
       "      <th>original_title_x</th>\n",
       "      <th>...</th>\n",
       "      <th>popularity</th>\n",
       "      <th>release_date_x</th>\n",
       "      <th>vote_average</th>\n",
       "      <th>vote_count</th>\n",
       "      <th>id_y</th>\n",
       "      <th>release_date_y</th>\n",
       "      <th>movie</th>\n",
       "      <th>production_budget</th>\n",
       "      <th>domestic_gross</th>\n",
       "      <th>worldwide_gross</th>\n",
       "    </tr>\n",
       "  </thead>\n",
       "  <tbody>\n",
       "  </tbody>\n",
       "</table>\n",
       "<p>0 rows × 32 columns</p>\n",
       "</div>"
      ],
      "text/plain": [
       "Empty DataFrame\n",
       "Columns: [movie_id, ordering, person_id, category, ordering, title, region, is_original_title, primary_title, original_title_x, start_year, runtime_minutes, genres, averagerating, numvotes, primary_name, primary_profession, Unnamed: 0, genre_ids, id_x, original_language, original_title_y, popularity, release_date_x, vote_average, vote_count, id_y, release_date_y, movie, production_budget, domestic_gross, worldwide_gross]\n",
       "Index: []\n",
       "\n",
       "[0 rows x 32 columns]"
      ]
     },
     "execution_count": 61,
     "metadata": {},
     "output_type": "execute_result"
    }
   ],
   "source": [
    "all_merge[all_merge.duplicated() == True]"
   ]
  },
  {
   "cell_type": "code",
   "execution_count": 62,
   "id": "eb9de9c9",
   "metadata": {},
   "outputs": [
    {
     "data": {
      "text/plain": [
       "Series([], dtype: bool)"
      ]
     },
     "execution_count": 62,
     "metadata": {},
     "output_type": "execute_result"
    }
   ],
   "source": [
    "all_merge.isna().any()[all_merge.isna().any() == True]"
   ]
  },
  {
   "cell_type": "code",
   "execution_count": 63,
   "id": "50ab204d",
   "metadata": {},
   "outputs": [
    {
     "data": {
      "text/plain": [
       "movie_id              False\n",
       "ordering              False\n",
       "person_id             False\n",
       "category              False\n",
       "ordering              False\n",
       "title                 False\n",
       "region                False\n",
       "is_original_title     False\n",
       "primary_title         False\n",
       "original_title_x      False\n",
       "start_year            False\n",
       "runtime_minutes       False\n",
       "genres                False\n",
       "averagerating         False\n",
       "numvotes              False\n",
       "primary_name          False\n",
       "primary_profession    False\n",
       "Unnamed: 0            False\n",
       "genre_ids             False\n",
       "id_x                  False\n",
       "original_language     False\n",
       "original_title_y      False\n",
       "popularity            False\n",
       "release_date_x        False\n",
       "vote_average          False\n",
       "vote_count            False\n",
       "id_y                  False\n",
       "release_date_y        False\n",
       "movie                 False\n",
       "production_budget     False\n",
       "domestic_gross        False\n",
       "worldwide_gross       False\n",
       "dtype: bool"
      ]
     },
     "execution_count": 63,
     "metadata": {},
     "output_type": "execute_result"
    }
   ],
   "source": [
    "all_merge.isna().any() == True"
   ]
  },
  {
   "cell_type": "code",
   "execution_count": 64,
   "id": "04cf4be0",
   "metadata": {},
   "outputs": [
    {
     "data": {
      "text/plain": [
       "Unnamed: 0           False\n",
       "genre_ids            False\n",
       "id                   False\n",
       "original_language    False\n",
       "original_title       False\n",
       "popularity           False\n",
       "release_date         False\n",
       "title                False\n",
       "vote_average         False\n",
       "vote_count           False\n",
       "dtype: bool"
      ]
     },
     "execution_count": 64,
     "metadata": {},
     "output_type": "execute_result"
    }
   ],
   "source": [
    "tmdb_movies_df.isna().any()"
   ]
  },
  {
   "cell_type": "code",
   "execution_count": 65,
   "id": "ceaec016",
   "metadata": {},
   "outputs": [
    {
     "data": {
      "text/plain": [
       "id                   False\n",
       "release_date         False\n",
       "movie                False\n",
       "production_budget    False\n",
       "domestic_gross       False\n",
       "worldwide_gross      False\n",
       "dtype: bool"
      ]
     },
     "execution_count": 65,
     "metadata": {},
     "output_type": "execute_result"
    }
   ],
   "source": [
    "movie_budgets_df.isna().any()"
   ]
  },
  {
   "cell_type": "code",
   "execution_count": 66,
   "id": "0c262f59",
   "metadata": {},
   "outputs": [],
   "source": [
    "all_combined = all_merge"
   ]
  },
  {
   "cell_type": "code",
   "execution_count": 67,
   "id": "48d00489",
   "metadata": {},
   "outputs": [
    {
     "data": {
      "text/plain": [
       "Index(['movie_id', 'ordering', 'person_id', 'category', 'ordering', 'title',\n",
       "       'region', 'is_original_title', 'primary_title', 'original_title_x',\n",
       "       'start_year', 'runtime_minutes', 'genres', 'averagerating', 'numvotes',\n",
       "       'primary_name', 'primary_profession', 'Unnamed: 0', 'genre_ids', 'id_x',\n",
       "       'original_language', 'original_title_y', 'popularity', 'release_date_x',\n",
       "       'vote_average', 'vote_count', 'id_y', 'release_date_y', 'movie',\n",
       "       'production_budget', 'domestic_gross', 'worldwide_gross'],\n",
       "      dtype='object')"
      ]
     },
     "execution_count": 67,
     "metadata": {},
     "output_type": "execute_result"
    }
   ],
   "source": [
    "all_combined.columns"
   ]
  },
  {
   "cell_type": "code",
   "execution_count": 68,
   "id": "581cab26",
   "metadata": {},
   "outputs": [],
   "source": [
    "all_combined['worldwide_gross'] = all_combined['worldwide_gross'].replace('[\\$,]', '', regex=True).astype(float)\n",
    "all_combined['domestic_gross'] = all_combined['domestic_gross'].replace('[\\$,]', '', regex=True).astype(float)\n",
    "all_combined['production_budget'] = all_combined['production_budget'].replace('[\\$,]', '', regex=True).astype(float)\n"
   ]
  },
  {
   "cell_type": "code",
   "execution_count": 69,
   "id": "47dd8ed1",
   "metadata": {},
   "outputs": [
    {
     "data": {
      "text/html": [
       "<div>\n",
       "<style scoped>\n",
       "    .dataframe tbody tr th:only-of-type {\n",
       "        vertical-align: middle;\n",
       "    }\n",
       "\n",
       "    .dataframe tbody tr th {\n",
       "        vertical-align: top;\n",
       "    }\n",
       "\n",
       "    .dataframe thead th {\n",
       "        text-align: right;\n",
       "    }\n",
       "</style>\n",
       "<table border=\"1\" class=\"dataframe\">\n",
       "  <thead>\n",
       "    <tr style=\"text-align: right;\">\n",
       "      <th></th>\n",
       "      <th>profits</th>\n",
       "      <th>worldwide_gross</th>\n",
       "      <th>production_budget</th>\n",
       "    </tr>\n",
       "  </thead>\n",
       "  <tbody>\n",
       "    <tr>\n",
       "      <th>0</th>\n",
       "      <td>42160680.0</td>\n",
       "      <td>64160680.0</td>\n",
       "      <td>22000000.0</td>\n",
       "    </tr>\n",
       "    <tr>\n",
       "      <th>1</th>\n",
       "      <td>42160680.0</td>\n",
       "      <td>64160680.0</td>\n",
       "      <td>22000000.0</td>\n",
       "    </tr>\n",
       "    <tr>\n",
       "      <th>2</th>\n",
       "      <td>42160680.0</td>\n",
       "      <td>64160680.0</td>\n",
       "      <td>22000000.0</td>\n",
       "    </tr>\n",
       "    <tr>\n",
       "      <th>3</th>\n",
       "      <td>42160680.0</td>\n",
       "      <td>64160680.0</td>\n",
       "      <td>22000000.0</td>\n",
       "    </tr>\n",
       "    <tr>\n",
       "      <th>4</th>\n",
       "      <td>42160680.0</td>\n",
       "      <td>64160680.0</td>\n",
       "      <td>22000000.0</td>\n",
       "    </tr>\n",
       "  </tbody>\n",
       "</table>\n",
       "</div>"
      ],
      "text/plain": [
       "      profits  worldwide_gross  production_budget\n",
       "0  42160680.0       64160680.0         22000000.0\n",
       "1  42160680.0       64160680.0         22000000.0\n",
       "2  42160680.0       64160680.0         22000000.0\n",
       "3  42160680.0       64160680.0         22000000.0\n",
       "4  42160680.0       64160680.0         22000000.0"
      ]
     },
     "execution_count": 69,
     "metadata": {},
     "output_type": "execute_result"
    }
   ],
   "source": [
    "#creating a profit column worldwide_gross - production_budget\n",
    "all_combined['profits'] = all_combined['worldwide_gross'] - all_combined['production_budget']\n",
    "all_combined[['profits','worldwide_gross','production_budget']].head()"
   ]
  },
  {
   "cell_type": "code",
   "execution_count": 70,
   "id": "6be37819",
   "metadata": {},
   "outputs": [
    {
     "data": {
      "text/plain": [
       "Index(['movie_id', 'ordering', 'person_id', 'category', 'ordering', 'title',\n",
       "       'region', 'is_original_title', 'primary_title', 'original_title_x',\n",
       "       'start_year', 'runtime_minutes', 'genres', 'averagerating', 'numvotes',\n",
       "       'primary_name', 'primary_profession', 'Unnamed: 0', 'genre_ids', 'id_x',\n",
       "       'original_language', 'original_title_y', 'popularity', 'release_date_x',\n",
       "       'vote_average', 'vote_count', 'id_y', 'release_date_y', 'movie',\n",
       "       'production_budget', 'domestic_gross', 'worldwide_gross', 'profits'],\n",
       "      dtype='object')"
      ]
     },
     "execution_count": 70,
     "metadata": {},
     "output_type": "execute_result"
    }
   ],
   "source": [
    "all_merge.columns"
   ]
  },
  {
   "cell_type": "code",
   "execution_count": 71,
   "id": "6f693240",
   "metadata": {},
   "outputs": [
    {
     "data": {
      "image/png": "[encoded data removed]",
      "text/plain": [
       "<Figure size 432x288 with 1 Axes>"
      ]
     },
     "metadata": {
      "needs_background": "light"
     },
     "output_type": "display_data"
    }
   ],
   "source": [
    "genre_groupby_pop = all_combined.groupby('genres').mean().sort_values('worldwide_gross',ascending=False).head(10)\n",
    "genre_groupby_pop_top20 = genre_groupby_pop['worldwide_gross'].head(10)\n",
    "xticks = genre_groupby_pop_top20.index\n",
    "genre_groupby_pop_top20\n",
    "\n",
    "genre_groupby_pop\n",
    "# fig,ax = plt.subplots(figsize=(15,15))\n",
    "sns.barplot(data=genre_groupby_pop,x=genre_groupby_pop.index,y='worldwide_gross')\n",
    "plt.xticks(rotation=90);\n"
   ]
  },
  {
   "cell_type": "code",
   "execution_count": 72,
   "id": "343fc253",
   "metadata": {},
   "outputs": [
    {
     "data": {
      "image/png": "[encoded data removed]",
      "text/plain": [
       "<Figure size 1080x1080 with 1 Axes>"
      ]
     },
     "metadata": {
      "needs_background": "light"
     },
     "output_type": "display_data"
    }
   ],
   "source": [
    "#group by region and find profits per region\n",
    "region_groupby = all_combined.groupby('region').mean().sort_values('profits',ascending=False)\n",
    "top_15_profits_regions = region_groupby.head(15)\n",
    "\n",
    "fig,ax = plt.subplots(figsize=(15,15))\n",
    "sns.barplot(data=top_15_profits_regions,x=top_15_profits_regions.index,y='profits')\n",
    "plt.xticks(rotation=90);"
   ]
  },
  {
   "cell_type": "code",
   "execution_count": 73,
   "id": "1acfa774",
   "metadata": {},
   "outputs": [
    {
     "data": {
      "image/png": "[encoded data removed]",
      "text/plain": [
       "<Figure size 1080x1080 with 1 Axes>"
      ]
     },
     "metadata": {
      "needs_background": "light"
     },
     "output_type": "display_data"
    }
   ],
   "source": [
    "#group by averagerating vs profits per movie\n",
    "#im gonna create bins for the ratings 1,2,3,4 to 10 \n",
    "#then im gonna group by these bins plot binned ratings vs profits\n",
    "\n",
    "rating_bins = [1,2,3,4,5,6,7,8,9,10]\n",
    "\n",
    "all_combined['rating_bins'] = pd.cut(all_combined['averagerating'],bins=[0,1,2,3,4,5,6,7,8,9,10])\n",
    "\n",
    "\n",
    "ratings_profits_sum = all_combined.groupby('rating_bins').sum().sort_values('profits',ascending=False)\n",
    "ratings_movies_count = all_combined.groupby('rating_bins').count().sort_values('profits',ascending=False)\n",
    "ratings_movie_numbers = ratings_movies_count['movie_id']\n",
    "\n",
    "ratings_profits_per_movie = (ratings_profits_sum['profits']/ ratings_movie_numbers).dropna() #no movies rated 0-1 in df so there would be NA\n",
    "ratings_profits_per_movie\n",
    "\n",
    "\n",
    "rating_ranges=  [(1,2),(2,3),(3,4),(4,5),(5,6),(6,7),(7,8),(8,9),(9,10)]\n",
    "\n",
    "fig,ax = plt.subplots(figsize=(15,15))\n",
    "sns.barplot(data=ratings_profits_per_movie,x=ratings_profits_per_movie.index,y=ratings_profits_per_movie.values,)\n",
    "ax.set_xticklabels(rating_ranges)\n",
    "ax.set_title('Ratings vs Profit per movie',fontdict={'fontsize':24});\n",
    "\n"
   ]
  },
  {
   "cell_type": "code",
   "execution_count": 74,
   "id": "10668772",
   "metadata": {},
   "outputs": [
    {
     "data": {
      "image/png": "[encoded data removed]",
      "text/plain": [
       "<Figure size 1080x1080 with 1 Axes>"
      ]
     },
     "metadata": {
      "needs_background": "light"
     },
     "output_type": "display_data"
    }
   ],
   "source": [
    "#group by averagerating vs profits per movie\n",
    "#im gonna create bins for the ratings 1,2,3,4 to 10 \n",
    "#then im gonna group by these bins plot binned ratings vs profits\n",
    "\n",
    "rating_bins = [1,2,3,4,5,6,7,8,9,10]\n",
    "\n",
    "all_combined['rating_bins'] = pd.cut(all_combined['averagerating'],bins=[0,1,2,3,4,5,6,7,8,9,10])\n",
    "\n",
    "\n",
    "ratings_mean_profits = (all_combined.groupby('rating_bins').mean().sort_values('profits',ascending=False)).dropna()\n",
    "ratings_mean_profits\n",
    "# ratings_movies_count = all_combined.groupby('rating_bins').count().sort_values('profits',ascending=False)\n",
    "# ratings_movie_numbers = ratings_movies_count['movie_id']\n",
    "\n",
    "# ratings_profits_per_movie = (ratings_profits_sum['profits']/ ratings_movie_numbers).dropna() #no movies rated 0-1 in df so there would be NA\n",
    "# ratings_profits_per_movie\n",
    "\n",
    "\n",
    "# rating_ranges=  [(1,2),(2,3),(3,4),(4,5),(5,6),(6,7),(7,8),(8,9),(9,10)]\n",
    "\n",
    "fig,ax = plt.subplots(figsize=(15,15))\n",
    "sns.barplot(data=ratings_mean_profits,y=ratings_mean_profits.index,x='profits')\n",
    "# # ax.set_xticklabels(rating_ranges)\n",
    "ax.set_title('Ratings vs Profit per movie',fontdict={'fontsize':24});"
   ]
  },
  {
   "cell_type": "code",
   "execution_count": 75,
   "id": "c4e56666",
   "metadata": {},
   "outputs": [
    {
     "data": {
      "text/plain": [
       "Text(0.5, 1.0, 'Top 20 Directors ranked by average profit')"
      ]
     },
     "execution_count": 75,
     "metadata": {},
     "output_type": "execute_result"
    },
    {
     "data": {
      "image/png": "[encoded data removed]",
      "text/plain": [
       "<Figure size 1080x1080 with 1 Axes>"
      ]
     },
     "metadata": {
      "needs_background": "light"
     },
     "output_type": "display_data"
    }
   ],
   "source": [
    "#average profits per director\n",
    "directors_id_groupby = all_combined[all_combined['category'] == 'director'].groupby('primary_name').mean().sort_values('profits',ascending=False)\n",
    "top_20_directors_by_profit = directors_id_groupby.head(20)\n",
    "top_20_directors_by_profit\n",
    "\n",
    "fig,ax = plt.subplots(figsize=(15,15))\n",
    "sns.barplot(data = top_20_directors_by_profit,x='profits',y=top_20_directors_by_profit.index)\n",
    "ax.set_title('Top 20 Directors ranked by average profit',fontdict={'fontsize':25})\n"
   ]
  },
  {
   "cell_type": "code",
   "execution_count": 76,
   "id": "44b90564",
   "metadata": {},
   "outputs": [
    {
     "data": {
      "text/plain": [
       "Text(0.5, 1.0, 'Top 30 Actors ranked by average profit')"
      ]
     },
     "execution_count": 76,
     "metadata": {},
     "output_type": "execute_result"
    },
    {
     "data": {
      "image/png": "[encoded data removed]",
      "text/plain": [
       "<Figure size 1080x1080 with 1 Axes>"
      ]
     },
     "metadata": {
      "needs_background": "light"
     },
     "output_type": "display_data"
    }
   ],
   "source": [
    "#average profits per director\n",
    "directors_id_groupby = all_combined[all_combined['category'] == 'actor'].groupby('primary_name').mean().sort_values('profits',ascending=False)\n",
    "top_20_directors_by_profit = directors_id_groupby.head(30)\n",
    "top_20_directors_by_profit\n",
    "\n",
    "fig,ax = plt.subplots(figsize=(15,15))\n",
    "sns.barplot(data = top_20_directors_by_profit,x='profits',y=top_20_directors_by_profit.index)\n",
    "ax.set_title('Top 30 Actors ranked by average profit',fontdict={'fontsize':25})"
   ]
  },
  {
   "cell_type": "code",
   "execution_count": 77,
   "id": "fa260656",
   "metadata": {},
   "outputs": [
    {
     "data": {
      "text/plain": [
       "Text(0.5, 1.0, 'Top 10 Genres ranked by average profit')"
      ]
     },
     "execution_count": 77,
     "metadata": {},
     "output_type": "execute_result"
    },
    {
     "data": {
      "image/png": "[encoded data removed]",
      "text/plain": [
       "<Figure size 1080x1080 with 1 Axes>"
      ]
     },
     "metadata": {
      "needs_background": "light"
     },
     "output_type": "display_data"
    }
   ],
   "source": [
    "mean_genre_groupby = all_combined.groupby('genres').mean().sort_values('profits',ascending=False)\n",
    "top_30_genres_average_profits = mean_genre_groupby.head(30)\n",
    "\n",
    "fig,ax = plt.subplots(figsize=(15,15))\n",
    "sns.barplot(data = top_30_genres_average_profits,x='profits',y=top_30_genres_average_profits.index)\n",
    "ax.set_title('Top 10 Genres ranked by average profit',fontdict={'fontsize':25})\n"
   ]
  },
  {
   "cell_type": "code",
   "execution_count": 78,
   "id": "1d3f91c2",
   "metadata": {},
   "outputs": [
    {
     "data": {
      "text/plain": [
       "<AxesSubplot:xlabel='production_budget', ylabel='profits'>"
      ]
     },
     "execution_count": 78,
     "metadata": {},
     "output_type": "execute_result"
    },
    {
     "data": {
      "image/png": "[encoded data removed]",
      "text/plain": [
       "<Figure size 1080x1080 with 1 Axes>"
      ]
     },
     "metadata": {
      "needs_background": "light"
     },
     "output_type": "display_data"
    }
   ],
   "source": [
    "fig,ax = plt.subplots(figsize=(15,15))\n",
    "movie_budgets_ranking  = all_combined.groupby('title').mean().sort_values('production_budget',ascending=False)\n",
    "top_200_movie_budgets_ranking = movie_budgets_ranking.head(200)\n",
    "\n",
    "sns.scatterplot(data=top_200_movie_budgets_ranking,x='production_budget',y='profits',alpha=0.7,hue='profits')\n"
   ]
  },
  {
   "cell_type": "code",
   "execution_count": 79,
   "id": "649e5e05",
   "metadata": {},
   "outputs": [],
   "source": [
    "#popularity column should actually be named movie_popularity\n",
    "# fig,ax = plt.subplots(figsize=(15,15))\n",
    "# actors_popularity_mean_gross  = all_combined[all_combined['category'] == 'actor'].groupby('primary_name').mean().sort_values('popularity',ascending=False)\n",
    "# top_200_popular_actors = movie_budgets_ranking.head(200)\n",
    "\n",
    "# sns.scatterplot(data=top_200_popular_actors,x='popularity',y='worldwide_gross',alpha=0.7,hue='profits')"
   ]
  },
  {
   "cell_type": "code",
   "execution_count": 80,
   "id": "8ef5dbfa",
   "metadata": {},
   "outputs": [
    {
     "data": {
      "image/png": "[encoded data removed]",
      "text/plain": [
       "<Figure size 1080x1080 with 1 Axes>"
      ]
     },
     "metadata": {
      "needs_background": "light"
     },
     "output_type": "display_data"
    }
   ],
   "source": [
    "# Monthly Profit Trends (Line Plot)\n",
    "fig,ax = plt.subplots(figsize=(15,15))\n",
    "all_combined['release_month'] = pd.to_datetime(all_combined['release_date_x']).dt.month\n",
    "monthly_profit = all_combined.groupby('release_month')['profits'].mean()\n",
    "# monthly_profit\n",
    "months = ['Jan','Feb','Mar','Apr','May','Jun','Jul','Aug','Sep','Oct','Nov','Dec']\n",
    "\n",
    "sns.barplot(x=monthly_profit.index, y=monthly_profit.values)\n",
    "ax.set_xticklabels(months)\n",
    "plt.title(label='Mean Profits per Month',fontdict={'fontsize':25})\n",
    "plt.xlabel(fontdict={'fontsize':15},xlabel='release month')\n",
    "plt.ylabel(fontdict={'fontsize':15},ylabel='profits');\n"
   ]
  },
  {
   "cell_type": "markdown",
   "id": "9b4836e8",
   "metadata": {},
   "source": [
    "### Question 1: Do movies with top-rated directors (Group A) generate higher profits than those with lower-rated directors (Group B)?\n",
    "\n",
    "#### Null Hypothesis: Movies with top-rated directors (Group A) generate equal profit compared to those with lower-rated directors (Group B)?\n",
    "\n",
    "#### Alternative Hypothesis: Movies with top-rated directors (Group A) generate more profits compared to those with lower-rated directors (Group B)?\n",
    "\n",
    "   #### Groups:\n",
    "\n",
    "    #####   Group A: Movies directed by directors in the top 10% by averagerating or profits.\n",
    "\n",
    "    #####    Group B: Movies directed by others.\n",
    "\n",
    "    #### Metric: Compare mean profits or worldwide_gross.\n",
    "\n",
    "    #### Method: Use a two-sample t-test to check if the difference is statistically significant."
   ]
  },
  {
   "cell_type": "code",
   "execution_count": 88,
   "id": "0c39fba0",
   "metadata": {},
   "outputs": [
    {
     "name": "stdout",
     "output_type": "stream",
     "text": [
      "t-stat:  2.5637634165318914\n",
      "p_value:  0.011351146206348809\n",
      "Null Hypothesis is rejected. Results are statistically significant at alpha = 0.05\n",
      "Movies with more popular directors do not generate equal profits\n"
     ]
    }
   ],
   "source": [
    "\n",
    "\n",
    "\n",
    "directors_top_10 = all_combined[all_combined['category'] == 'director'].groupby('primary_name').mean().sort_values('averagerating',ascending=False)\n",
    "top_100_directors_average_rating_profits = directors_top_10['profits'].head(100)\n",
    "# mean_profits_top_50_directors = top_50_directors_average_rating_profits.mean()\n",
    "\n",
    "not_top_100_directors_average_rating_profits = directors_top_10.tail(834)\n",
    "random_sample_50_not_top_100 = not_top_100_directors_average_rating_profits['profits'].sample(n=50,random_state=6)\n",
    "\n",
    "\n",
    "alpha = 0.05\n",
    "t_statistic, p_value = stats.ttest_ind(top_100_directors_average_rating_profits,random_sample_50_not_top_100)\n",
    "print('t-stat: ',t_statistic)\n",
    "print('p_value: ',p_value)\n",
    "\n",
    "if p_value < alpha:\n",
    "    print('Null Hypothesis is rejected. Results are statistically significant at alpha = 0.05')\n",
    "    print('Movies with more popular directors do not generate equal profits')\n",
    "else:\n",
    "    print('Failed to reject null hypothesis. Results are not statistically significant')\n",
    "\n",
    "\n"
   ]
  },
  {
   "cell_type": "code",
   "execution_count": 85,
   "id": "19665086",
   "metadata": {},
   "outputs": [
    {
     "name": "stdout",
     "output_type": "stream",
     "text": [
      "t-stat:  12.536536420391192\n",
      "p_value:  1.2877422300304936e-30\n",
      "Null Hypothesis is rejected. Results are statistically significant at alpha = 0.05.\n",
      "More popular movies do not make the same profits as less popular movies\n"
     ]
    }
   ],
   "source": [
    "#the popularity column is for movie popularity.\n",
    "#change the hypothesis test to check for movie popularity\n",
    "\n",
    "#organize actors by popularity\n",
    "#null hypothesis: more popular actors dont make same profits\n",
    "#alternate: more popular actors make more profits.\n",
    "movies_ranked_popularity = all_combined[all_combined['category'] == 'actor'].groupby('title').mean().sort_values('popularity',ascending=False)\n",
    "top_200_popular_movies = movies_ranked_popularity['profits'].head(200)\n",
    "not_top_200_movies = movies_ranked_popularity.tail(1410)\n",
    "random_sample_200_movies_not_top_200 = not_top_200_movies['profits'].sample(n=200,random_state=42)\n",
    "\n",
    "alpha = 0.05\n",
    "t_statistic, p_value = stats.ttest_ind(top_200_popular_movies,random_sample_200_movies_not_top_200)\n",
    "print('t-stat: ',t_statistic)\n",
    "print('p_value: ',p_value)\n",
    "\n",
    "if p_value < alpha:\n",
    "    print('Null Hypothesis is rejected. Results are statistically significant at alpha = 0.05.')\n",
    "    print('More popular movies do not make the same profits as less popular movies')\n",
    "else:\n",
    "    print('Failed to reject null hypothesis. Results are not statistically significant')\n"
   ]
  },
  {
   "cell_type": "code",
   "execution_count": 86,
   "id": "078f15b1",
   "metadata": {},
   "outputs": [
    {
     "name": "stdout",
     "output_type": "stream",
     "text": [
      "t-stat:  5.198120400069214\n",
      "p_value:  4.994850179731832e-07\n",
      "Null Hypothesis is rejected. Results are statistically significant at alpha = 0.05.\n",
      "More highest-rated movies do not make the same profits as lower-rated movies\n"
     ]
    }
   ],
   "source": [
    "# all_combined[['title','runtime_minutes']].groupby('title').mean().sort_values('runtime_minutes',ascending=True).head(50)\n",
    "\n",
    "#Question 3: Movies with higher ratings make more profit?\n",
    "\n",
    "#Null: Movies with higher ratings don't make higher profits?\n",
    "#alternate: Movies with higher ratings make more profits?\n",
    "\n",
    "\n",
    "highest_rated_movies = all_combined.groupby('title').mean().sort_values('averagerating',ascending=False)\n",
    "top_100_rated_movies_profits = highest_rated_movies['profits'].head(100)\n",
    "\n",
    "not_top_100_movies = highest_rated_movies.tail(894)\n",
    "sample_not_top_100_movies_profits = not_top_100_movies['profits'].sample(n=100,random_state=42)\n",
    "\n",
    "alpha = 0.05\n",
    "t_statistic, p_value = stats.ttest_ind(top_100_rated_movies_profits,sample_not_top_100_movies_profits)\n",
    "print('t-stat: ',t_statistic)\n",
    "print('p_value: ',p_value)\n",
    "\n",
    "if p_value < alpha:\n",
    "    print('Null Hypothesis is rejected. Results are statistically significant at alpha = 0.05.')\n",
    "    print('More highest-rated movies do not make the same profits as lower-rated movies')\n",
    "else:\n",
    "    print('Failed to reject null hypothesis. Results are not statistically significant')\n"
   ]
  },
  {
   "cell_type": "code",
   "execution_count": null,
   "id": "5cc31ac6",
   "metadata": {},
   "outputs": [],
   "source": []
  }
 ],
 "metadata": {
  "kernelspec": {
   "display_name": "learn-env",
   "language": "python",
   "name": "python3"
  },
  "language_info": {
   "codemirror_mode": {
    "name": "ipython",
    "version": 3
   },
   "file_extension": ".py",
   "mimetype": "text/x-python",
   "name": "python",
   "nbconvert_exporter": "python",
   "pygments_lexer": "ipython3",
   "version": "3.8.5"
  }
 },
 "nbformat": 4,
 "nbformat_minor": 5
}
